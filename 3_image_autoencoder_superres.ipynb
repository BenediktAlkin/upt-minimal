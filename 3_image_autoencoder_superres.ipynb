{
  "cells": [
    {
      "cell_type": "code",
      "outputs": [
        {
          "output_type": "stream",
          "name": "stdout",
          "text": [
            "Requirement already satisfied: kappamodules in /usr/local/lib/python3.10/dist-packages (0.1.70)\n",
            "Requirement already satisfied: torch in /usr/local/lib/python3.10/dist-packages (from kappamodules) (2.3.0+cu121)\n",
            "Requirement already satisfied: einops in /usr/local/lib/python3.10/dist-packages (from kappamodules) (0.8.0)\n",
            "Requirement already satisfied: numpy in /usr/local/lib/python3.10/dist-packages (from kappamodules) (1.25.2)\n",
            "Requirement already satisfied: filelock in /usr/local/lib/python3.10/dist-packages (from torch->kappamodules) (3.15.1)\n",
            "Requirement already satisfied: typing-extensions>=4.8.0 in /usr/local/lib/python3.10/dist-packages (from torch->kappamodules) (4.12.2)\n",
            "Requirement already satisfied: sympy in /usr/local/lib/python3.10/dist-packages (from torch->kappamodules) (1.12.1)\n",
            "Requirement already satisfied: networkx in /usr/local/lib/python3.10/dist-packages (from torch->kappamodules) (3.3)\n",
            "Requirement already satisfied: jinja2 in /usr/local/lib/python3.10/dist-packages (from torch->kappamodules) (3.1.4)\n",
            "Requirement already satisfied: fsspec in /usr/local/lib/python3.10/dist-packages (from torch->kappamodules) (2023.6.0)\n",
            "Requirement already satisfied: nvidia-cuda-nvrtc-cu12==12.1.105 in /usr/local/lib/python3.10/dist-packages (from torch->kappamodules) (12.1.105)\n",
            "Requirement already satisfied: nvidia-cuda-runtime-cu12==12.1.105 in /usr/local/lib/python3.10/dist-packages (from torch->kappamodules) (12.1.105)\n",
            "Requirement already satisfied: nvidia-cuda-cupti-cu12==12.1.105 in /usr/local/lib/python3.10/dist-packages (from torch->kappamodules) (12.1.105)\n",
            "Requirement already satisfied: nvidia-cudnn-cu12==8.9.2.26 in /usr/local/lib/python3.10/dist-packages (from torch->kappamodules) (8.9.2.26)\n",
            "Requirement already satisfied: nvidia-cublas-cu12==12.1.3.1 in /usr/local/lib/python3.10/dist-packages (from torch->kappamodules) (12.1.3.1)\n",
            "Requirement already satisfied: nvidia-cufft-cu12==11.0.2.54 in /usr/local/lib/python3.10/dist-packages (from torch->kappamodules) (11.0.2.54)\n",
            "Requirement already satisfied: nvidia-curand-cu12==10.3.2.106 in /usr/local/lib/python3.10/dist-packages (from torch->kappamodules) (10.3.2.106)\n",
            "Requirement already satisfied: nvidia-cusolver-cu12==11.4.5.107 in /usr/local/lib/python3.10/dist-packages (from torch->kappamodules) (11.4.5.107)\n",
            "Requirement already satisfied: nvidia-cusparse-cu12==12.1.0.106 in /usr/local/lib/python3.10/dist-packages (from torch->kappamodules) (12.1.0.106)\n",
            "Requirement already satisfied: nvidia-nccl-cu12==2.20.5 in /usr/local/lib/python3.10/dist-packages (from torch->kappamodules) (2.20.5)\n",
            "Requirement already satisfied: nvidia-nvtx-cu12==12.1.105 in /usr/local/lib/python3.10/dist-packages (from torch->kappamodules) (12.1.105)\n",
            "Requirement already satisfied: triton==2.3.0 in /usr/local/lib/python3.10/dist-packages (from torch->kappamodules) (2.3.0)\n",
            "Requirement already satisfied: nvidia-nvjitlink-cu12 in /usr/local/lib/python3.10/dist-packages (from nvidia-cusolver-cu12==11.4.5.107->torch->kappamodules) (12.5.40)\n",
            "Requirement already satisfied: MarkupSafe>=2.0 in /usr/local/lib/python3.10/dist-packages (from jinja2->torch->kappamodules) (2.1.5)\n",
            "Requirement already satisfied: mpmath<1.4.0,>=1.1.0 in /usr/local/lib/python3.10/dist-packages (from sympy->torch->kappamodules) (1.3.0)\n",
            "2.3.0+cu121\n",
            "fatal: destination path 'upt-minimal' already exists and is not an empty directory.\n",
            "/content/upt-minimal\n"
          ]
        }
      ],
      "source": [
        "# setup environment\n",
        "!pip install kappamodules\n",
        "import torch\n",
        "print(torch.__version__)\n",
        "device = torch.device(\"cuda\")\n",
        "torch.cuda.get_device_name(device)\n",
        "\n",
        "# checkout repo\n",
        "!git clone https://github.com/BenediktAlkin/upt-minimal.git\n",
        "%cd upt-minimal"
      ],
      "metadata": {
        "colab": {
          "base_uri": "https://localhost:8080/"
        },
        "id": "etdUqFmzsCV4",
        "outputId": "0b0d2f5c-4780-4fee-8b21-6f71d6a41247"
      },
      "execution_count": 1
    },
    {
      "cell_type": "markdown",
      "source": [
        "# 3 CIFAR10 Autoencoder\n",
        "\n",
        "Now that we know how the core of UPT works, its time to introduce some of the new components.\n",
        "In this notebook, we will change the last layer back to what UPT uses, i.e. a perceiver decoder.\n",
        "To showcase this, we'll train a simple autoencoder by decoding the latent space of the model\n",
        "via regular grid positions, i.e. we query the latent space with the positions of each pixel\n",
        "to reconstruct the image from the latent space.\n",
        "\n",
        "We'll keep the ViT patch embedding as first layer as we are working with images as input but\n",
        "change the decoder back to the perceiver decoder.\n",
        "\n",
        "![title](\"schematics/upt_dense_autoencoder.svg\")"
      ],
      "metadata": {
        "collapsed": true,
        "pycharm": {
          "name": "#%% md\n"
        },
        "id": "Ciky3TZbsCV5"
      }
    },
    {
      "cell_type": "markdown",
      "source": [
        "Same dataloading as before except that we don't need the label here, because we train an autoencoder."
      ],
      "metadata": {
        "collapsed": false,
        "id": "UelHurD5sCV6"
      }
    },
    {
      "cell_type": "code",
      "outputs": [
        {
          "output_type": "stream",
          "name": "stdout",
          "text": [
            "Files already downloaded and verified\n"
          ]
        }
      ],
      "source": [
        "# initialize CIFAR10\n",
        "from torchvision.datasets import CIFAR10\n",
        "train_dataset = CIFAR10(root=\"./data\", train=True, download=True)"
      ],
      "metadata": {
        "colab": {
          "base_uri": "https://localhost:8080/"
        },
        "id": "Py1sXDhdsCV6",
        "outputId": "1527e9c7-486b-4aee-94bd-a3f75ca1d535"
      },
      "execution_count": 2
    },
    {
      "cell_type": "code",
      "outputs": [
        {
          "output_type": "stream",
          "name": "stdout",
          "text": [
            "label: 6\n"
          ]
        }
      ],
      "source": [
        "# visualize image\n",
        "image, label = train_dataset[0]\n",
        "print(f\"label: {label}\")\n",
        "image.show()"
      ],
      "metadata": {
        "colab": {
          "base_uri": "https://localhost:8080/"
        },
        "id": "Q629DvMbsCV6",
        "outputId": "249d1601-7136-4bad-f869-485d5abeed3c"
      },
      "execution_count": 3
    },
    {
      "cell_type": "markdown",
      "source": [
        "The encoder is the same as in the previous tutorial (UPT with a ViT patch embedding instead of\n",
        "the message passing to supernodes)."
      ],
      "metadata": {
        "collapsed": false,
        "id": "AejNXoXusCV6"
      }
    },
    {
      "cell_type": "code",
      "execution_count": 4,
      "outputs": [
        {
          "output_type": "stream",
          "name": "stdout",
          "text": [
            "encoded_image.shape: torch.Size([1, 64, 192])\n"
          ]
        }
      ],
      "source": [
        "from upt.models.encoder_image import EncoderImage\n",
        "encoder = EncoderImage(\n",
        "    # CIFAR has 3 channels (RGB)\n",
        "    input_dim=3,\n",
        "    # CIFAR has 32x32 images -> patch_size=4 results in 64 patch tokens\n",
        "    resolution=32,\n",
        "    patch_size=4,\n",
        "    # ViT-T latent dimension\n",
        "    enc_dim=192,\n",
        "    enc_num_heads=3,\n",
        "    # ViT-T has 12 blocks -> parameters are split evenly among encoder/approximator/decoder\n",
        "    enc_depth=4,\n",
        "    # the perceiver is optional, it changes the size of the latent space to NUM_LATENT_TOKENS tokens\n",
        "    # perc_dim=dim,\n",
        "    # perc_num_heads=num_heads,\n",
        "    # num_latent_tokens=32,\n",
        ")\n",
        "\n",
        "# we can now encode images\n",
        "image, label = train_dataset[0]\n",
        "# convert image to a tensor\n",
        "from torchvision.transforms import ToTensor\n",
        "tensor = ToTensor()(image).unsqueeze(0)\n",
        "encoded_image = encoder(tensor)\n",
        "print(f\"encoded_image.shape: {encoded_image.shape}\")"
      ],
      "metadata": {
        "pycharm": {
          "name": "#%%\n"
        },
        "colab": {
          "base_uri": "https://localhost:8080/"
        },
        "id": "1hfd_ViIsCV6",
        "outputId": "1c885b8d-dba8-4177-851a-6be9aa78372b"
      }
    },
    {
      "cell_type": "markdown",
      "source": [
        "In this setting, we dont really need an approximator, but we'll keep it for consistency."
      ],
      "metadata": {
        "collapsed": false,
        "pycharm": {
          "name": "#%% md\n"
        },
        "id": "RIDayp2NsCV7"
      }
    },
    {
      "cell_type": "code",
      "execution_count": 5,
      "outputs": [
        {
          "output_type": "stream",
          "name": "stdout",
          "text": [
            "approximator_output.shape: torch.Size([1, 64, 192])\n"
          ]
        }
      ],
      "source": [
        "from upt.models.approximator import Approximator\n",
        "approximator = Approximator(\n",
        "    # tell the approximator the dimension of the input (perc_dim or enc_dim of encoder)\n",
        "    input_dim=192,\n",
        "    # as in ViT-T\n",
        "    dim=192,\n",
        "    num_heads=3,\n",
        "    # ViT-T has 12 blocks -> parameters are split evenly among encoder/approximator/decoder\n",
        "    depth=4,\n",
        ")\n",
        "\n",
        "approximator_output = approximator(encoded_image)\n",
        "print(f\"approximator_output.shape: {approximator_output.shape}\")"
      ],
      "metadata": {
        "pycharm": {
          "name": "#%%\n"
        },
        "colab": {
          "base_uri": "https://localhost:8080/"
        },
        "id": "If3yzbq_sCV7",
        "outputId": "e9005a09-da93-46c6-a752-1db861783730"
      }
    },
    {
      "cell_type": "markdown",
      "source": [
        "We now need a decoder that can predict images, so we use the perceiver decoder and query\n",
        "the latent space at each pixel position to produce an image."
      ],
      "metadata": {
        "collapsed": false,
        "pycharm": {
          "name": "#%% md\n"
        },
        "id": "rWpZ5BqRsCV7"
      }
    },
    {
      "cell_type": "code",
      "execution_count": 6,
      "outputs": [],
      "source": [
        "from upt.models.decoder_perceiver import DecoderPerceiver\n",
        "decoder = DecoderPerceiver(\n",
        "    # tell the decoder the dimension of the input (dim of approximator)\n",
        "    input_dim=192,\n",
        "    # 3 channels for RGB\n",
        "    output_dim=3,\n",
        "    # as in ViT-T\n",
        "    dim=192,\n",
        "    num_heads=3,\n",
        "    # ViT-T has 12 blocks -> parameters are split evenly among encoder/approximator/decoder\n",
        "    depth=4,\n",
        "    # images are 2D\n",
        "    ndim=2,\n",
        ")"
      ],
      "metadata": {
        "pycharm": {
          "name": "#%%\n"
        },
        "id": "-En1hHeWsCV7"
      }
    },
    {
      "cell_type": "code",
      "outputs": [],
      "source": [
        "# to query the latent space, we need pixel positions (CIFAR10 has 32x32 pixels)\n",
        "import einops\n",
        "import torch\n",
        "output_pos = einops.rearrange(\n",
        "    torch.stack(torch.meshgrid([torch.arange(32), torch.arange(32)], indexing=\"ij\")),\n",
        "    \"ndim height width -> (height width) ndim\",\n",
        ")"
      ],
      "metadata": {
        "is_executing": true,
        "id": "7Zisq0sAsCV7"
      },
      "execution_count": 7
    },
    {
      "cell_type": "code",
      "outputs": [
        {
          "output_type": "stream",
          "name": "stdout",
          "text": [
            "output_pos[0]: tensor([0, 0])\n",
            "output_pos[1]: tensor([0, 1])\n",
            "output_pos[2]: tensor([0, 2])\n",
            "output_pos[32]: tensor([1, 0])\n",
            "output_pos[1023]: tensor([31, 31])\n"
          ]
        }
      ],
      "source": [
        "# these positions are the pixel positions traversed row-wise from top-left\n",
        "print(f\"output_pos[0]: {output_pos[0]}\")\n",
        "print(f\"output_pos[1]: {output_pos[1]}\")\n",
        "print(f\"output_pos[2]: {output_pos[2]}\")\n",
        "print(f\"output_pos[32]: {output_pos[32]}\")\n",
        "print(f\"output_pos[1023]: {output_pos[1023]}\")"
      ],
      "metadata": {
        "colab": {
          "base_uri": "https://localhost:8080/"
        },
        "id": "SPuI7rB-sCV8",
        "outputId": "9838dd89-386e-4735-b172-ff6f41da9471"
      },
      "execution_count": 8
    },
    {
      "cell_type": "markdown",
      "source": [
        "Lets decode an image!"
      ],
      "metadata": {
        "collapsed": false,
        "id": "1K8znbJnsCV8"
      }
    },
    {
      "cell_type": "code",
      "source": [
        "# add batch dimension and convert to float\n",
        "output_pos = output_pos.unsqueeze(0).float()"
      ],
      "metadata": {
        "id": "iA8GmSeptQI1"
      },
      "execution_count": 9,
      "outputs": []
    },
    {
      "cell_type": "code",
      "outputs": [
        {
          "output_type": "stream",
          "name": "stdout",
          "text": [
            "prediction.shape: torch.Size([1024, 3])\n"
          ]
        }
      ],
      "source": [
        "# decode\n",
        "prediction = decoder(approximator_output, output_pos=output_pos)\n",
        "print(f\"prediction.shape: {prediction.shape}\")"
      ],
      "metadata": {
        "colab": {
          "base_uri": "https://localhost:8080/"
        },
        "id": "murzbiP4sCV8",
        "outputId": "cf33c25d-e0d6-4396-e697-92cc69112f1d"
      },
      "execution_count": 10
    },
    {
      "cell_type": "markdown",
      "source": [
        "The cool thing is, we are not bound to pixel positions, so we could decode more pixels\n",
        "than in the input. So lets decode a 64x64 image!"
      ],
      "metadata": {
        "collapsed": false,
        "id": "pTngw0KJsCV8"
      }
    },
    {
      "cell_type": "code",
      "outputs": [
        {
          "output_type": "stream",
          "name": "stdout",
          "text": [
            "output_pos_double.max before renormalization: 63\n",
            "output_pos_double.max after renormalization: 31.0\n",
            "output_pos.max: 31.0\n"
          ]
        }
      ],
      "source": [
        "# create output_pos for 64x64 image\n",
        "output_pos_double = einops.rearrange(\n",
        "    torch.stack(torch.meshgrid([torch.arange(64), torch.arange(64)], indexing=\"ij\")),\n",
        "    \"ndim height width -> 1 (height width) ndim\",\n",
        ")\n",
        "# if we'd actually train a model, we'd need to normalize the positions such that\n",
        "# the max value of the double resolution positions is equal to the max value\n",
        "# of the 32x32 positions. So we'd not count pixel positions as 0, 1, 2, ... but\n",
        "# rather 0, 0.5, 1, 1.5.\n",
        "print(f\"output_pos_double.max before renormalization: {output_pos_double.max()}\")\n",
        "output_pos_double = output_pos_double / 63 * 31\n",
        "print(f\"output_pos_double.max after renormalization: {output_pos_double.max()}\")\n",
        "print(f\"output_pos.max: {output_pos.max()}\")"
      ],
      "metadata": {
        "colab": {
          "base_uri": "https://localhost:8080/"
        },
        "id": "5JuMBNbcsCV8",
        "outputId": "ea57f4b9-3000-49bf-80f7-089120c32d11"
      },
      "execution_count": 11
    },
    {
      "cell_type": "code",
      "outputs": [
        {
          "output_type": "stream",
          "name": "stdout",
          "text": [
            "double_resolution_pred.shape: torch.Size([4096, 3])\n"
          ]
        }
      ],
      "source": [
        "# decode 64x64 image\n",
        "double_resolution_pred = decoder(approximator_output, output_pos=output_pos_double)\n",
        "print(f\"double_resolution_pred.shape: {double_resolution_pred.shape}\")"
      ],
      "metadata": {
        "colab": {
          "base_uri": "https://localhost:8080/"
        },
        "id": "6sgqsVoJsCV8",
        "outputId": "1c905fd9-a782-469f-ed50-bde87cdd849d"
      },
      "execution_count": 12
    },
    {
      "cell_type": "markdown",
      "source": [
        "# Train a model\n",
        "Now lets train the autoencoder."
      ],
      "metadata": {
        "collapsed": false,
        "pycharm": {
          "name": "#%% md\n"
        },
        "id": "p3GBBuM0sCV9"
      }
    },
    {
      "cell_type": "code",
      "execution_count": 13,
      "outputs": [
        {
          "output_type": "stream",
          "name": "stdout",
          "text": [
            "Files already downloaded and verified\n",
            "Files already downloaded and verified\n",
            "parameters: 5.9M\n"
          ]
        },
        {
          "output_type": "stream",
          "name": "stderr",
          "text": [
            "train_loss: 0.0014 test_loss: 0.0014 : 100%|██████████| 1950/1950 [20:32<00:00,  1.70it/s]"
          ]
        }
      ],
      "source": [
        "import einops\n",
        "import torch\n",
        "import torch.nn.functional as F\n",
        "from torch.utils.data import DataLoader\n",
        "from torchvision.datasets import CIFAR10\n",
        "from torchvision.transforms import ToTensor\n",
        "from tqdm import tqdm\n",
        "\n",
        "from upt.models.approximator import Approximator\n",
        "from upt.models.decoder_perceiver import DecoderPerceiver\n",
        "from upt.models.encoder_image import EncoderImage\n",
        "from upt.models.upt_image_autoencoder import UPTImageAutoencoder\n",
        "\n",
        "# initialize device\n",
        "device = torch.device(\"cuda\")\n",
        "\n",
        "# initialize dataset\n",
        "transform = ToTensor()\n",
        "train_dataset = CIFAR10(root=\"./data\", train=True, download=True, transform=transform)\n",
        "test_dataset = CIFAR10(root=\"./data\", train=False, download=True, transform=transform)\n",
        "\n",
        "# hyperparameters\n",
        "dim = 192  # ~6M parameter model\n",
        "num_heads = 3\n",
        "epochs = 10\n",
        "batch_size = 256\n",
        "\n",
        "# initialize model\n",
        "model = UPTImageAutoencoder(\n",
        "    encoder=EncoderImage(\n",
        "        # CIFAR has 3 channels (RGB)\n",
        "        input_dim=3,\n",
        "        # CIFAR has 32x32 images -> patch_size=4 results in 64 patch tokens\n",
        "        resolution=32,\n",
        "        patch_size=4,\n",
        "        # ViT-T latent dimension\n",
        "        enc_dim=dim,\n",
        "        enc_num_heads=num_heads,\n",
        "        # ViT-T has 12 blocks -> parameters are split evenly among encoder/approximator/decoder\n",
        "        enc_depth=4,\n",
        "        # the perceiver is optional, it changes the size of the latent space to NUM_LATENT_TOKENS tokens\n",
        "        # perc_dim=dim,\n",
        "        # perc_num_heads=num_heads,\n",
        "        # num_latent_tokens=32,\n",
        "    ),\n",
        "    approximator=Approximator(\n",
        "        # tell the approximator the dimension of the input (perc_dim or enc_dim of encoder)\n",
        "        input_dim=dim,\n",
        "        # as in ViT-T\n",
        "        dim=dim,\n",
        "        num_heads=num_heads,\n",
        "        # ViT-T has 12 blocks -> parameters are split evenly among encoder/approximator/decoder\n",
        "        depth=4,\n",
        "    ),\n",
        "    decoder=DecoderPerceiver(\n",
        "        # tell the decoder the dimension of the input (dim of approximator)\n",
        "        input_dim=dim,\n",
        "        # 3 channels for RGB\n",
        "        output_dim=3,\n",
        "        # images have 2D coordinates\n",
        "        ndim=2,\n",
        "        # as in ViT-T\n",
        "        dim=dim,\n",
        "        num_heads=num_heads,\n",
        "        # ViT-T has 12 blocks -> parameters are split evenly among encoder/approximator/decoder\n",
        "        depth=4,\n",
        "        # reshape to image after decoding\n",
        "        unbatch_mode=\"image\",\n",
        "    ),\n",
        ")\n",
        "model = model.to(device)\n",
        "print(f\"parameters: {sum(p.numel() for p in model.parameters()) / 1e6:.1f}M\")\n",
        "\n",
        "# setup dataloaders\n",
        "train_dataloader = DataLoader(train_dataset, batch_size=batch_size, shuffle=True, drop_last=True)\n",
        "test_dataloader = DataLoader(test_dataset, batch_size=batch_size)\n",
        "\n",
        "# initialize optimizer and learning rate schedule (linear warmup for first 10% -> linear decay)\n",
        "optim = torch.optim.AdamW(model.parameters(), lr=1e-3, weight_decay=0.05)\n",
        "total_updates = len(train_dataloader) * epochs\n",
        "warmup_updates = int(total_updates * 0.1)\n",
        "lrs = torch.concat(\n",
        "    [\n",
        "        # linear warmup\n",
        "        torch.linspace(0, optim.defaults[\"lr\"], warmup_updates),\n",
        "        # linear decay\n",
        "        torch.linspace(optim.defaults[\"lr\"], 0, total_updates - warmup_updates),\n",
        "    ],\n",
        ")\n",
        "\n",
        "# output positions are fixed for training, we query on a regular grid\n",
        "# CIFAR has 32x32 pixels\n",
        "# output_pos will be a tensor of shape (32 * 32, 2) with and will contain x and y indices\n",
        "# output_pos[0] = [0, 0]\n",
        "# output_pos[1] = [0, 1]\n",
        "# output_pos[2] = [0, 2]\n",
        "# ...\n",
        "# output_pos[32] = [1, 0]\n",
        "# output_pos[1024] = [31, 31]\n",
        "output_pos = einops.rearrange(\n",
        "    torch.stack(torch.meshgrid([torch.arange(32), torch.arange(32)], indexing=\"ij\")),\n",
        "    \"ndim height width -> (height width) ndim\",\n",
        ")\n",
        "output_pos = output_pos.to(device)\n",
        "# convert output_pos from [0, 31] to [0, 1000] for better behavior with sin-cos pos embeddings\n",
        "output_pos = output_pos / 31 * 1000\n",
        "# decoder needs float dtype\n",
        "output_pos = output_pos.float()\n",
        "\n",
        "# train model\n",
        "update = 0\n",
        "pbar = tqdm(total=total_updates)\n",
        "pbar.update(0)\n",
        "pbar.set_description(\"train_loss: ????? test_loss. ?????\")\n",
        "train_losses = []\n",
        "test_losses = []\n",
        "test_loss = float(\"inf\")\n",
        "loss = None\n",
        "for _ in range(epochs):\n",
        "    # train for an epoch\n",
        "    model.train()\n",
        "    for x, _ in train_dataloader:\n",
        "        # prepare forward pass\n",
        "        x = x.to(device)\n",
        "\n",
        "        # schedule learning rate\n",
        "        for param_group in optim.param_groups:\n",
        "            param_group[\"lr\"] = lrs[update]\n",
        "\n",
        "        # forward pass\n",
        "        x_hat = model(x, output_pos=einops.repeat(output_pos, \"... -> bs ...\", bs=len(x)))\n",
        "        loss = F.mse_loss(x_hat, x)\n",
        "\n",
        "        # backward pass\n",
        "        loss.backward()\n",
        "\n",
        "        # update step\n",
        "        optim.step()\n",
        "        optim.zero_grad()\n",
        "\n",
        "        # status update\n",
        "        update += 1\n",
        "        pbar.update()\n",
        "        pbar.set_description(\n",
        "            f\"train_loss: {loss.item():.4f} \"\n",
        "            f\"test_loss: {test_loss:.4f} \"\n",
        "        )\n",
        "        train_losses.append(loss.item())\n",
        "\n",
        "    # evaluate\n",
        "    test_loss = 0.\n",
        "    for x, _ in test_dataloader:\n",
        "        x = x.to(device)\n",
        "        x_hat = model(x, output_pos=einops.repeat(output_pos, \"... -> bs ...\", bs=len(x)))\n",
        "        test_loss += F.mse_loss(x_hat, x, reduction=\"none\").flatten(start_dim=1).mean(dim=1).sum().item()\n",
        "    test_loss /= len(test_dataset)\n",
        "    test_losses.append(test_loss)\n",
        "    pbar.set_description(\n",
        "        f\"train_loss: {loss.item():.4f} \"\n",
        "        f\"test_loss: {test_loss:.4f} \"\n",
        "    )\n"
      ],
      "metadata": {
        "pycharm": {
          "name": "#%%\n"
        },
        "colab": {
          "base_uri": "https://localhost:8080/"
        },
        "id": "NMtVmNfZsCV9",
        "outputId": "8b867585-1241-4d95-c1fb-9621fc544281"
      }
    },
    {
      "cell_type": "markdown",
      "source": [
        "Lets plot the learning curves!"
      ],
      "metadata": {
        "collapsed": false,
        "pycharm": {
          "name": "#%% md\n"
        },
        "id": "H4HteWm7sCV9"
      }
    },
    {
      "cell_type": "code",
      "execution_count": 16,
      "outputs": [
        {
          "output_type": "display_data",
          "data": {
            "text/plain": [
              "<Figure size 1200x500 with 2 Axes>"
            ],
            "image/png": "[encoded data removed]"
          },
          "metadata": {}
        }
      ],
      "source": [
        "import matplotlib.pyplot as plt\n",
        "fig, axes = plt.subplots(1, 2, figsize=(12, 5))\n",
        "axes[0].plot(range(len(train_losses)), train_losses)\n",
        "axes[0].set_xlabel(\"Updates\")\n",
        "axes[0].set_ylabel(\"Train Loss\")\n",
        "axes[0].set_title(\"Train Loss\")\n",
        "axes[0].grid(True)\n",
        "axes[1].plot(range(len(test_losses)), test_losses)\n",
        "axes[1].set_xlabel(\"Updates\")\n",
        "axes[1].set_ylabel(\"Test Loss\")\n",
        "axes[1].set_title(\"Test Loss\")\n",
        "axes[1].grid(True)\n",
        "plt.tight_layout()\n",
        "plt.show()"
      ],
      "metadata": {
        "pycharm": {
          "name": "#%%\n"
        },
        "colab": {
          "base_uri": "https://localhost:8080/",
          "height": 507
        },
        "id": "k96U2B4QsCV9",
        "outputId": "68be9343-19af-4535-b971-4605f48400c0"
      }
    },
    {
      "cell_type": "code",
      "source": [
        "output_pos_double = einops.rearrange(\n",
        "    torch.stack(torch.meshgrid([torch.arange(64), torch.arange(64)], indexing=\"ij\")),\n",
        "    \"ndim height width -> (height width) ndim\",\n",
        ")\n",
        "output_pos_double = output_pos_double.to(device)\n",
        "# convert output_pos from [0, 31] to [0, 1000] for better behavior with sin-cos pos embeddings\n",
        "output_pos_double = output_pos_double / 63 * 1000\n",
        "# decoder needs float dtype\n",
        "output_pos_double = output_pos_double.float()"
      ],
      "metadata": {
        "id": "d-CF8jci6opf"
      },
      "execution_count": 40,
      "outputs": []
    },
    {
      "cell_type": "code",
      "source": [
        "x, _ = test_dataset[0]\n",
        "x = x.to(device)\n",
        "with torch.no_grad():\n",
        "  x_hat = model(x.unsqueeze(0), output_pos=output_pos.unsqueeze(0)).squeeze(0)\n",
        "  x_hat_superres = model(x.unsqueeze(0), output_pos=output_pos_double.unsqueeze(0)).squeeze(0)"
      ],
      "metadata": {
        "id": "OSBlrL-R4tPG"
      },
      "execution_count": 42,
      "outputs": []
    },
    {
      "cell_type": "code",
      "source": [
        "fig, axes = plt.subplots(1, 2, figsize=(4, 2))\n",
        "axes[0].imshow(einops.rearrange(x.cpu(), \"three height width -> height width three\"))\n",
        "axes[0].set_title(\"input\")\n",
        "axes[0].set_axis_off()\n",
        "axes[1].imshow(einops.rearrange(x_hat.clamp(0, 1).cpu(), \"three height width -> height width three\"))\n",
        "axes[1].set_title(\"reconstruction\")\n",
        "axes[1].set_axis_off()\n",
        "plt.tight_layout()\n",
        "plt.show()"
      ],
      "metadata": {
        "colab": {
          "base_uri": "https://localhost:8080/",
          "height": 213
        },
        "id": "B2HnBFnk48T9",
        "outputId": "ed2eb51a-5d88-4c8a-8397-626b40633012"
      },
      "execution_count": 56,
      "outputs": [
        {
          "output_type": "display_data",
          "data": {
            "text/plain": [
              "<Figure size 400x200 with 2 Axes>"
            ],
            "image/png": "[encoded data removed]"
          },
          "metadata": {}
        }
      ]
    },
    {
      "cell_type": "markdown",
      "source": [
        "Looks pretty good!"
      ],
      "metadata": {
        "id": "PI_ToqCf7ovu"
      }
    },
    {
      "cell_type": "code",
      "source": [
        "import einops\n",
        "import torch\n",
        "import torch.nn.functional as F\n",
        "from torch.utils.data import DataLoader\n",
        "from torchvision.datasets import CIFAR10\n",
        "from torchvision.transforms import ToTensor\n",
        "from tqdm import tqdm\n",
        "\n",
        "from upt.models.approximator import Approximator\n",
        "from upt.models.decoder_perceiver import DecoderPerceiver\n",
        "from upt.models.encoder_image import EncoderImage\n",
        "from upt.models.upt_image_autoencoder import UPTImageAutoencoder\n",
        "\n",
        "# initialize device\n",
        "device = torch.device(\"cuda\")\n",
        "\n",
        "# initialize dataset\n",
        "transform = ToTensor()\n",
        "train_dataset = CIFAR10(root=\"./data\", train=True, download=True, transform=transform)\n",
        "test_dataset = CIFAR10(root=\"./data\", train=False, download=True, transform=transform)\n",
        "\n",
        "# hyperparameters\n",
        "dim = 192  # ~6M parameter model\n",
        "num_heads = 3\n",
        "epochs = 10\n",
        "batch_size = 256\n",
        "\n",
        "# initialize model\n",
        "model = UPTImageAutoencoder(\n",
        "    encoder=EncoderImage(\n",
        "        # CIFAR has 3 channels (RGB)\n",
        "        input_dim=3,\n",
        "        # CIFAR has 32x32 images -> patch_size=4 results in 64 patch tokens\n",
        "        resolution=32,\n",
        "        patch_size=4,\n",
        "        # ViT-T latent dimension\n",
        "        enc_dim=dim,\n",
        "        enc_num_heads=num_heads,\n",
        "        # ViT-T has 12 blocks -> parameters are split evenly among encoder/approximator/decoder\n",
        "        enc_depth=4,\n",
        "        # the perceiver is optional, it changes the size of the latent space to NUM_LATENT_TOKENS tokens\n",
        "        # perc_dim=dim,\n",
        "        # perc_num_heads=num_heads,\n",
        "        # num_latent_tokens=32,\n",
        "    ),\n",
        "    approximator=Approximator(\n",
        "        # tell the approximator the dimension of the input (perc_dim or enc_dim of encoder)\n",
        "        input_dim=dim,\n",
        "        # as in ViT-T\n",
        "        dim=dim,\n",
        "        num_heads=num_heads,\n",
        "        # ViT-T has 12 blocks -> parameters are split evenly among encoder/approximator/decoder\n",
        "        depth=4,\n",
        "    ),\n",
        "    decoder=DecoderPerceiver(\n",
        "        # tell the decoder the dimension of the input (dim of approximator)\n",
        "        input_dim=dim,\n",
        "        # 3 channels for RGB\n",
        "        output_dim=3,\n",
        "        # images have 2D coordinates\n",
        "        ndim=2,\n",
        "        # as in ViT-T\n",
        "        dim=dim,\n",
        "        num_heads=num_heads,\n",
        "        # ViT-T has 12 blocks -> parameters are split evenly among encoder/approximator/decoder\n",
        "        depth=4,\n",
        "        # reshape to image after decoding\n",
        "        unbatch_mode=\"image\",\n",
        "    ),\n",
        ")\n",
        "model = model.to(device)\n",
        "print(f\"parameters: {sum(p.numel() for p in model.parameters()) / 1e6:.1f}M\")\n",
        "\n",
        "# setup dataloaders\n",
        "train_dataloader = DataLoader(train_dataset, batch_size=batch_size, shuffle=True, drop_last=True)\n",
        "test_dataloader = DataLoader(test_dataset, batch_size=batch_size)\n",
        "\n",
        "# initialize optimizer and learning rate schedule (linear warmup for first 10% -> linear decay)\n",
        "optim = torch.optim.AdamW(model.parameters(), lr=1e-3, weight_decay=0.05)\n",
        "total_updates = len(train_dataloader) * epochs\n",
        "warmup_updates = int(total_updates * 0.1)\n",
        "lrs = torch.concat(\n",
        "    [\n",
        "        # linear warmup\n",
        "        torch.linspace(0, optim.defaults[\"lr\"], warmup_updates),\n",
        "        # linear decay\n",
        "        torch.linspace(optim.defaults[\"lr\"], 0, total_updates - warmup_updates),\n",
        "    ],\n",
        ")\n",
        "\n",
        "# output positions are fixed for training, we query on a regular grid\n",
        "# CIFAR has 32x32 pixels\n",
        "# output_pos will be a tensor of shape (32 * 32, 2) with and will contain x and y indices\n",
        "# output_pos[0] = [0, 0]\n",
        "# output_pos[1] = [0, 1]\n",
        "# output_pos[2] = [0, 2]\n",
        "# ...\n",
        "# output_pos[32] = [1, 0]\n",
        "# output_pos[1024] = [31, 31]\n",
        "output_pos = einops.rearrange(\n",
        "    torch.stack(torch.meshgrid([torch.arange(32), torch.arange(32)], indexing=\"ij\")),\n",
        "    \"ndim height width -> (height width) ndim\",\n",
        ")\n",
        "output_pos = output_pos.to(device)\n",
        "# convert output_pos from [0, 31] to [0, 1000] for better behavior with sin-cos pos embeddings\n",
        "output_pos = output_pos / 31 * 1000\n",
        "# decoder needs float dtype\n",
        "output_pos = output_pos.float()\n",
        "\n",
        "# train model\n",
        "update = 0\n",
        "pbar = tqdm(total=total_updates)\n",
        "pbar.update(0)\n",
        "pbar.set_description(\"train_loss: ????? test_loss. ?????\")\n",
        "train_losses = []\n",
        "test_losses = []\n",
        "test_loss = float(\"inf\")\n",
        "loss = None\n",
        "for _ in range(epochs):\n",
        "    # train for an epoch\n",
        "    model.train()\n",
        "    for x, _ in train_dataloader:\n",
        "        # prepare forward pass\n",
        "        x = x.to(device)\n",
        "\n",
        "        # schedule learning rate\n",
        "        for param_group in optim.param_groups:\n",
        "            param_group[\"lr\"] = lrs[update]\n",
        "\n",
        "        # forward pass\n",
        "        cur_output_pos = einops.repeat(output_pos, \"... -> bs ...\", bs=len(x))\n",
        "        noise = einops.rearrange(torch.rand(size=(len(x),), device=x.device) * 2 - 1, \"bs -> bs 1 1\")\n",
        "        cur_output_pos = 1 + cur_output_pos + noise\n",
        "        x_hat = model(x, output_pos=cur_output_pos)\n",
        "        loss = F.mse_loss(x_hat, x)\n",
        "\n",
        "        # backward pass\n",
        "        loss.backward()\n",
        "\n",
        "        # update step\n",
        "        optim.step()\n",
        "        optim.zero_grad()\n",
        "\n",
        "        # status update\n",
        "        update += 1\n",
        "        pbar.update()\n",
        "        pbar.set_description(\n",
        "            f\"train_loss: {loss.item():.4f} \"\n",
        "            f\"test_loss: {test_loss:.4f} \"\n",
        "        )\n",
        "        train_losses.append(loss.item())\n",
        "\n",
        "    # evaluate\n",
        "    test_loss = 0.\n",
        "    for x, _ in test_dataloader:\n",
        "        x = x.to(device)\n",
        "        x_hat = model(x, output_pos=einops.repeat(output_pos, \"... -> bs ...\", bs=len(x)))\n",
        "        test_loss += F.mse_loss(x_hat, x, reduction=\"none\").flatten(start_dim=1).mean(dim=1).sum().item()\n",
        "    test_loss /= len(test_dataset)\n",
        "    test_losses.append(test_loss)\n",
        "    pbar.set_description(\n",
        "        f\"train_loss: {loss.item():.4f} \"\n",
        "        f\"test_loss: {test_loss:.4f} \"\n",
        "    )\n"
      ],
      "metadata": {
        "id": "lqBYNCzO756D",
        "outputId": "53fcf6ae-c3ed-4f9e-acde-de2547e41cc2",
        "colab": {
          "base_uri": "https://localhost:8080/"
        }
      },
      "execution_count": null,
      "outputs": [
        {
          "output_type": "stream",
          "name": "stdout",
          "text": [
            "Files already downloaded and verified\n",
            "Files already downloaded and verified\n",
            "parameters: 5.9M\n"
          ]
        },
        {
          "output_type": "stream",
          "name": "stderr",
          "text": [
            "\n",
            "  0%|          | 0/1950 [00:00<?, ?it/s]\u001b[A\n",
            "train_loss: ????? test_loss. ?????:   0%|          | 0/1950 [00:11<?, ?it/s]\n",
            "\n",
            "train_loss: ????? test_loss. ?????:   0%|          | 1/1950 [00:00<21:30,  1.51it/s]\u001b[A\n",
            "train_loss: 0.3000 test_loss: inf :   0%|          | 1/1950 [00:00<21:30,  1.51it/s]\u001b[A\n",
            "train_loss: 0.3000 test_loss: inf :   0%|          | 2/1950 [00:01<20:11,  1.61it/s]\u001b[A\n",
            "train_loss: 0.2939 test_loss: inf :   0%|          | 2/1950 [00:01<20:11,  1.61it/s]\u001b[A\n",
            "train_loss: 0.2939 test_loss: inf :   0%|          | 3/1950 [00:01<19:43,  1.64it/s]\u001b[A\n",
            "train_loss: 0.2564 test_loss: inf :   0%|          | 3/1950 [00:01<19:43,  1.64it/s]\u001b[A\n",
            "train_loss: 0.2564 test_loss: inf :   0%|          | 4/1950 [00:02<19:45,  1.64it/s]\u001b[A\n",
            "train_loss: 0.1463 test_loss: inf :   0%|          | 4/1950 [00:02<19:45,  1.64it/s]\u001b[A\n",
            "train_loss: 0.1463 test_loss: inf :   0%|          | 5/1950 [00:03<19:37,  1.65it/s]\u001b[A\n",
            "train_loss: 0.0816 test_loss: inf :   0%|          | 5/1950 [00:03<19:37,  1.65it/s]\u001b[A\n",
            "train_loss: 0.0816 test_loss: inf :   0%|          | 6/1950 [00:03<19:42,  1.64it/s]\u001b[A\n",
            "train_loss: 0.0808 test_loss: inf :   0%|          | 6/1950 [00:03<19:42,  1.64it/s]\u001b[A\n",
            "train_loss: 0.0808 test_loss: inf :   0%|          | 7/1950 [00:04<19:44,  1.64it/s]\u001b[A\n",
            "train_loss: 0.1253 test_loss: inf :   0%|          | 7/1950 [00:04<19:44,  1.64it/s]\u001b[A\n",
            "train_loss: 0.1253 test_loss: inf :   0%|          | 8/1950 [00:04<19:44,  1.64it/s]\u001b[A\n",
            "train_loss: 0.1701 test_loss: inf :   0%|          | 8/1950 [00:04<19:44,  1.64it/s]\u001b[A\n",
            "train_loss: 0.1701 test_loss: inf :   0%|          | 9/1950 [00:05<19:44,  1.64it/s]\u001b[A\n",
            "train_loss: 0.1766 test_loss: inf :   0%|          | 9/1950 [00:05<19:44,  1.64it/s]\u001b[A\n",
            "train_loss: 0.1766 test_loss: inf :   1%|          | 10/1950 [00:06<19:45,  1.64it/s]\u001b[A\n",
            "train_loss: 0.1561 test_loss: inf :   1%|          | 10/1950 [00:06<19:45,  1.64it/s]\u001b[A\n",
            "train_loss: 0.1561 test_loss: inf :   1%|          | 11/1950 [00:06<20:00,  1.62it/s]\u001b[A\n",
            "train_loss: 0.1184 test_loss: inf :   1%|          | 11/1950 [00:06<20:00,  1.62it/s]\u001b[A\n",
            "train_loss: 0.1184 test_loss: inf :   1%|          | 12/1950 [00:07<20:08,  1.60it/s]\u001b[A\n",
            "train_loss: 0.0844 test_loss: inf :   1%|          | 12/1950 [00:07<20:08,  1.60it/s]\u001b[A\n",
            "train_loss: 0.0844 test_loss: inf :   1%|          | 13/1950 [00:08<20:07,  1.60it/s]\u001b[A\n",
            "train_loss: 0.0635 test_loss: inf :   1%|          | 13/1950 [00:08<20:07,  1.60it/s]\u001b[A\n",
            "train_loss: 0.0635 test_loss: inf :   1%|          | 14/1950 [00:08<19:55,  1.62it/s]\u001b[A\n",
            "train_loss: 0.0572 test_loss: inf :   1%|          | 14/1950 [00:08<19:55,  1.62it/s]\u001b[A\n",
            "train_loss: 0.0572 test_loss: inf :   1%|          | 15/1950 [00:09<19:55,  1.62it/s]\u001b[A\n",
            "train_loss: 0.0649 test_loss: inf :   1%|          | 15/1950 [00:09<19:55,  1.62it/s]\u001b[A\n",
            "train_loss: 0.0649 test_loss: inf :   1%|          | 16/1950 [00:09<19:52,  1.62it/s]\u001b[A\n",
            "train_loss: 0.0812 test_loss: inf :   1%|          | 16/1950 [00:09<19:52,  1.62it/s]\u001b[A\n",
            "train_loss: 0.0812 test_loss: inf :   1%|          | 17/1950 [00:10<19:53,  1.62it/s]\u001b[A\n",
            "train_loss: 0.0931 test_loss: inf :   1%|          | 17/1950 [00:10<19:53,  1.62it/s]\u001b[A\n",
            "train_loss: 0.0931 test_loss: inf :   1%|          | 18/1950 [00:11<19:52,  1.62it/s]\u001b[A\n",
            "train_loss: 0.0922 test_loss: inf :   1%|          | 18/1950 [00:11<19:52,  1.62it/s]\u001b[A\n",
            "train_loss: 0.0922 test_loss: inf :   1%|          | 19/1950 [00:11<19:58,  1.61it/s]\u001b[A\n",
            "train_loss: 0.0862 test_loss: inf :   1%|          | 19/1950 [00:11<19:58,  1.61it/s]\u001b[A\n",
            "train_loss: 0.0862 test_loss: inf :   1%|          | 20/1950 [00:12<20:01,  1.61it/s]\u001b[A\n",
            "train_loss: 0.0784 test_loss: inf :   1%|          | 20/1950 [00:12<20:01,  1.61it/s]\u001b[A\n",
            "train_loss: 0.0784 test_loss: inf :   1%|          | 21/1950 [00:12<19:55,  1.61it/s]\u001b[A\n",
            "train_loss: 0.0659 test_loss: inf :   1%|          | 21/1950 [00:12<19:55,  1.61it/s]\u001b[A"
          ]
        }
      ]
    }
  ],
  "metadata": {
    "kernelspec": {
      "display_name": "Python 3",
      "name": "python3"
    },
    "language_info": {
      "codemirror_mode": {
        "name": "ipython",
        "version": 2
      },
      "file_extension": ".py",
      "mimetype": "text/x-python",
      "name": "python",
      "nbconvert_exporter": "python",
      "pygments_lexer": "ipython2",
      "version": "2.7.6"
    },
    "colab": {
      "provenance": [],
      "gpuType": "T4"
    },
    "accelerator": "GPU"
  },
  "nbformat": 4,
  "nbformat_minor": 0
}